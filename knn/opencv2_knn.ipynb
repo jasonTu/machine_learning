{
 "cells": [
  {
   "cell_type": "markdown",
   "metadata": {},
   "source": [
    "## 什么是kNN算法\n",
    "邻近算法，或者说K最近邻(kNN，k-NearestNeighbor)分类算法是数据挖掘分类技术中最简单的方法之一。所谓K最近邻，就是k个最近的邻居的意思，说的是每个样本都可以用它最接近的k个邻居来代表。\n",
    "kNN算法的核心思想是如果一个样本在特征空间中的k个最相邻的样本中的大多数属于某一个类别，则该样本也属于这个类别，并具有这个类别上样本的特性。该方法在确定分类决策上只依据最邻近的一个或者几个样本的类别来决定待分样本所属的类别。 kNN方法在类别决策时，只与极少量的相邻样本有关。由于kNN方法主要靠周围有限的邻近的样本，而不是靠判别类域的方法来确定所属类别的，因此对于类域的交叉或重叠较多的待分样本集来说，kNN方法较其他方法更为适合。\n",
    "\n",
    "## 相关数学知识\n",
    "* 两点间距离计算公式："
   ]
  },
  {
   "cell_type": "code",
   "execution_count": 2,
   "metadata": {},
   "outputs": [
    {
     "name": "stdout",
     "output_type": "stream",
     "text": [
      "2.23606797749979\n"
     ]
    }
   ],
   "source": [
    "import math\n",
    "a = (1, 2)\n",
    "b = (3, 4)\n",
    "dist = math.sqrt(pow(a[0] - b[0], 2) + pow(a[0], b[0]))\n",
    "print(dist)"
   ]
  },
  {
   "cell_type": "markdown",
   "metadata": {},
   "source": [
    "## 环境准备\n",
    "* Mac OS 10.13\n",
    "* Python 3.6.5\n",
    "* jupyter notebook\n",
    "* 安装numpy\n",
    "* 安装scipy\n",
    "* 安装matplotlib\n",
    "* 安装opencv-python\n",
    "* 安装ipython\n",
    "* 安装jupyter\n",
    "```\n",
    "pip install numpy\n",
    "pip install scipy\n",
    "pip install matplotlib\n",
    "pip install opencv-python\n",
    "pip install ipython\n",
    "pip install jupyter\n",
    "```\n",
    "\n",
    "## Source Code"
   ]
  },
  {
   "cell_type": "code",
   "execution_count": 81,
   "metadata": {},
   "outputs": [
    {
     "name": "stdout",
     "output_type": "stream",
     "text": [
      "result:  [[1.]]\n",
      "neighbours:  [[1. 0. 1.]]\n",
      "distance:  [[ 13. 130. 205.]]\n"
     ]
    },
    {
     "data": {
      "image/png": "[encoded data removed]",
      "text/plain": [
       "<Figure size 432x288 with 1 Axes>"
      ]
     },
     "metadata": {},
     "output_type": "display_data"
    }
   ],
   "source": [
    "import cv2\n",
    "import numpy as np\n",
    "import matplotlib.pyplot as plt\n",
    "\n",
    "train_data = np.random.randint(0, 100, (25, 2)).astype(np.float32)\n",
    "\n",
    "responses = np.random.randint(0, 2, (25, 1)).astype(np.float32)\n",
    "\n",
    "red = train_data[responses.ravel() == 0]\n",
    "plt.scatter(red[:,0], red[:,1], 80, 'r', '^')\n",
    "\n",
    "blue = train_data[responses.ravel() == 1]\n",
    "plt.scatter(blue[:,0], blue[:,1], 80, 'b', 's')\n",
    "\n",
    "# plt.show()\n",
    "\n",
    "newcomer = np.random.randint(0, 100, (1, 2)).astype(np.float32)\n",
    "plt.scatter(newcomer[:,0], newcomer[:,1], 80, 'g', 'o')\n",
    "\n",
    "knn = cv2.ml.KNearest_create()\n",
    "knn.train(train_data, cv2.ml.ROW_SAMPLE, responses)\n",
    "ret, results, neighbours, dist = knn.findNearest(newcomer, 3)\n",
    "\n",
    "print(\"result: \", results)\n",
    "print(\"neighbours: \", neighbours)\n",
    "print(\"distance: \", dist)"
   ]
  },
  {
   "cell_type": "markdown",
   "metadata": {},
   "source": [
    "## 代码解释\n",
    "* 生成待训练的数据和标签\n",
    "```python\n",
    "train_data = np.random.randint(0, 100, (25, 2)).astype(np.float32)\n",
    "\n",
    "responses = np.random.randint(0, 2, (25, 1)).astype(np.float32)\n",
    "```\n",
    "* 在图中标记红色样本\n",
    "```python\n",
    "red = train_data[responses.ravel() == 0]\n",
    "plt.scatter(red[:,0], red[:,1], 80, 'r', '^')\n",
    "```\n",
    "* 在图中标记蓝色样本\n",
    "```python\n",
    "blue = train_data[responses.ravel() == 1]\n",
    "plt.scatter(blue[:,0], blue[:,1], 80, 'b', 's')\n",
    "```\n",
    "* 产生待分类数据\n",
    "```python\n",
    "newcomer = np.random.randint(0, 100, (1, 2)).astype(np.float32)\n",
    "plt.scatter(newcomer[:,0], newcomer[:,1], 80, 'g', 'o')\n",
    "```\n",
    "* 训练样本并产生分类\n",
    "```python\n",
    "knn = cv2.ml.KNearest_create()\n",
    "knn.train(train_data, cv2.ml.ROW_SAMPLE, responses)\n",
    "```\n",
    "* 给新数据分类：K设置为5\n",
    "```python\n",
    "ret, results, neighbours, dist = knn.findNearest(newcomer, 5)\n",
    "```\n",
    "\n",
    "## Referer\n",
    "1. [Understanding k-Nearest Neighbour][4]\n",
    "2. [wikipedia: k-nearest neighbors algorithm][5]\n",
    "3. [kNN(K-Nearest Neighbor)最邻近规则分类][6]\n",
    "\n",
    "[1]: https://segmentfault.com/a/1190000007715243\n",
    "[2]: http://www.numpy.org/\n",
    "[3]: http://matplotlib.org/\n",
    "[4]: http://docs.opencv.org/3.0-beta/doc/py_tutorials/py_ml/py_knn/py_knn_understanding/py_knn_understanding.html\n",
    "[5]: https://en.wikipedia.org/wiki/K-nearest_neighbors_algorithm\n",
    "[6]: http://blog.csdn.net/xlm289348/article/details/8876353"
   ]
  }
 ],
 "metadata": {
  "kernelspec": {
   "display_name": "Python 3",
   "language": "python",
   "name": "python3"
  },
  "language_info": {
   "codemirror_mode": {
    "name": "ipython",
    "version": 3
   },
   "file_extension": ".py",
   "mimetype": "text/x-python",
   "name": "python",
   "nbconvert_exporter": "python",
   "pygments_lexer": "ipython3",
   "version": "3.5.2"
  }
 },
 "nbformat": 4,
 "nbformat_minor": 2
}
